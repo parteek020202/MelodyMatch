{
 "cells": [
  {
   "cell_type": "code",
   "execution_count": 3,
   "id": "adb0650f-2333-41d8-8c57-1d9cd36b9abd",
   "metadata": {},
   "outputs": [
    {
     "name": "stdout",
     "output_type": "stream",
     "text": [
      "Spotify API setup complete!\n"
     ]
    }
   ],
   "source": [
    "import spotipy\n",
    "from spotipy.oauth2 import SpotifyOAuth\n",
    "\n",
    "# Spotify API credentials\n",
    "client_id = \"16d67d3bc69a46d7b5ba3e07e5f3b32e\"  \n",
    "client_secret = \"52407df28d02495aa667e9b3c843eeca\"  \n",
    "redirect_uri = \"http://localhost:8080/callback\"\n",
    "\n",
    "# Spotify authentication\n",
    "sp = spotipy.Spotify(auth_manager=SpotifyOAuth(\n",
    "    client_id=client_id,\n",
    "    client_secret=client_secret,\n",
    "    redirect_uri=redirect_uri,\n",
    "    scope=\"user-library-read playlist-read-private\"\n",
    "))\n",
    "\n",
    "print(\"Spotify API setup complete!\")\n"
   ]
  },
  {
   "cell_type": "code",
   "execution_count": 7,
   "id": "0ca6a5e5-5925-4195-908b-db855439021c",
   "metadata": {},
   "outputs": [
    {
     "name": "stdout",
     "output_type": "stream",
     "text": [
      "Song: Shape of You\n",
      "Artist: Ed Sheeran\n",
      "Album: ÷ (Deluxe)\n",
      "Popularity: 85\n"
     ]
    }
   ],
   "source": [
    "# Search for a song\n",
    "results = sp.search(q=\"Shape of You artist:Ed Sheeran\", type=\"track\", limit=1)\n",
    "track = results['tracks']['items'][0]\n",
    "\n",
    "# Display basic information\n",
    "print(f\"Song: {track['name']}\")\n",
    "print(f\"Artist: {track['artists'][0]['name']}\")\n",
    "print(f\"Album: {track['album']['name']}\")\n",
    "print(f\"Popularity: {track['popularity']}\")\n"
   ]
  },
  {
   "cell_type": "code",
   "execution_count": null,
   "id": "96a93637-564f-4994-9532-c4fd1ef96a8b",
   "metadata": {},
   "outputs": [],
   "source": []
  }
 ],
 "metadata": {
  "kernelspec": {
   "display_name": "Python (MelodyMatch)",
   "language": "python",
   "name": "melodymatch"
  },
  "language_info": {
   "codemirror_mode": {
    "name": "ipython",
    "version": 3
   },
   "file_extension": ".py",
   "mimetype": "text/x-python",
   "name": "python",
   "nbconvert_exporter": "python",
   "pygments_lexer": "ipython3",
   "version": "3.12.8"
  }
 },
 "nbformat": 4,
 "nbformat_minor": 5
}
